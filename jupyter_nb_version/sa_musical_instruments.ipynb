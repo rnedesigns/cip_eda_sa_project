{
 "cells": [
  {
   "cell_type": "markdown",
   "id": "c6e7c380-4954-4743-9701-369aa98e32f4",
   "metadata": {},
   "source": [
    "### EDA and Sentiment Analysis:\n",
    "\n",
    "> - For Amazon's products reviews datasets available at \n",
    "    - https://snap.stanford.edu/data/web-Amazon.html\n",
    "    - https://nijianmo.github.io/amazon/index.html#code\n",
    "> - Steps performed:\n",
    "    - EDA\n",
    "    - Data Cleaning\n",
    "    - Sentiment Analysis"
   ]
  },
  {
   "cell_type": "code",
   "execution_count": 1,
   "id": "4ac2bca8-88ba-42b5-93a8-da13536e5fc6",
   "metadata": {},
   "outputs": [],
   "source": [
    "# Importing required module:\n",
    "\n",
    "import json\n",
    "import nltk.sentiment\n",
    "\n",
    "import pandas as pd\n",
    "\n",
    "import seaborn as sns\n",
    "import matplotlib.pyplot as plt\n",
    "\n",
    "analyzer = nltk.sentiment.SentimentIntensityAnalyzer()"
   ]
  },
  {
   "cell_type": "markdown",
   "id": "768ae6a0-53ad-43cf-83d9-7256d08a67d0",
   "metadata": {},
   "source": [
    "> - From the first dataset i.e., software_products dataset - performed the EDA to understand the whole raw dataset prior to sub-setting them due to their scale of the file, however once the desired outputs have been achieved, next would be to pass in the large datasets and merge them for the unified report or individual reports based on the requirements of the business and teams!"
   ]
  },
  {
   "cell_type": "markdown",
   "id": "5a569d38-da63-4c98-bd95-01cab21249d1",
   "metadata": {},
   "source": [
    "### Data Cleaning the raw dataset by removing unwanted variables using del_keys() function:"
   ]
  },
  {
   "cell_type": "code",
   "execution_count": 2,
   "id": "22eb5f6f-1ee7-41ee-87c8-0b673b29ae82",
   "metadata": {},
   "outputs": [
    {
     "name": "stdout",
     "output_type": "stream",
     "text": [
      "312\n",
      "312\n",
      "312\n"
     ]
    }
   ],
   "source": [
    "def del_key():\n",
    "    with open('../datasets_raw/reviews_ori_data.json') as data_file:\n",
    "        products_data = json.load(data_file)\n",
    "\n",
    "        print(len(products_data['musical_instruments']))\n",
    "        print(len(products_data['software_products']))\n",
    "        print(len(products_data['office_products']))\n",
    "\n",
    "    for item_ in products_data['musical_instruments']:\n",
    "\n",
    "        for key_ in ['verified', 'reviewerName', 'reviewTime', 'unixReviewTime']:\n",
    "            item_.pop(key_)\n",
    "\n",
    "    with open('../datasets_output/musical_instruments_dir/musical_instruments_cleaned.json', 'w') as data_file:\n",
    "        json.dump(products_data['musical_instruments'], data_file, indent=4)\n",
    "\n",
    "del_key()"
   ]
  },
  {
   "cell_type": "markdown",
   "id": "d6337aab-b8f5-4dd7-b133-7ae0c65af0f2",
   "metadata": {},
   "source": [
    "### EDA on above cleaned dataset:"
   ]
  },
  {
   "cell_type": "code",
   "execution_count": 3,
   "id": "124cd2a1-dec6-45bf-80eb-1d6bb407cf5d",
   "metadata": {},
   "outputs": [
    {
     "data": {
      "text/html": [
       "<div>\n",
       "<style scoped>\n",
       "    .dataframe tbody tr th:only-of-type {\n",
       "        vertical-align: middle;\n",
       "    }\n",
       "\n",
       "    .dataframe tbody tr th {\n",
       "        vertical-align: top;\n",
       "    }\n",
       "\n",
       "    .dataframe thead th {\n",
       "        text-align: right;\n",
       "    }\n",
       "</style>\n",
       "<table border=\"1\" class=\"dataframe\">\n",
       "  <thead>\n",
       "    <tr style=\"text-align: right;\">\n",
       "      <th></th>\n",
       "      <th>overall</th>\n",
       "      <th>reviewerID</th>\n",
       "      <th>asin</th>\n",
       "      <th>style</th>\n",
       "      <th>reviewText</th>\n",
       "      <th>summary</th>\n",
       "      <th>vote</th>\n",
       "    </tr>\n",
       "  </thead>\n",
       "  <tbody>\n",
       "    <tr>\n",
       "      <th>0</th>\n",
       "      <td>5</td>\n",
       "      <td>A38M07PSQW4OR7</td>\n",
       "      <td>B00005ML71</td>\n",
       "      <td>{'Style:': ' Compact Sustain Pedal'}</td>\n",
       "      <td>I got everything I expected out of my order fo...</td>\n",
       "      <td>Shipped fast and works exactly how I hoped!</td>\n",
       "      <td>NaN</td>\n",
       "    </tr>\n",
       "    <tr>\n",
       "      <th>1</th>\n",
       "      <td>5</td>\n",
       "      <td>A3USCQUVPVCBLH</td>\n",
       "      <td>B00005ML71</td>\n",
       "      <td>{'Style:': ' Volume Expression Pedal'}</td>\n",
       "      <td>I use this while gigging with my MOX6.  Sturdy...</td>\n",
       "      <td>Works Perfectly</td>\n",
       "      <td>3.0</td>\n",
       "    </tr>\n",
       "    <tr>\n",
       "      <th>2</th>\n",
       "      <td>5</td>\n",
       "      <td>A1C0O09LOLVI39</td>\n",
       "      <td>B00005ML71</td>\n",
       "      <td>{'Style:': ' Compact Sustain Pedal'}</td>\n",
       "      <td>I love it, I used this for my Yamaha ypt-230 a...</td>\n",
       "      <td>awesome</td>\n",
       "      <td>NaN</td>\n",
       "    </tr>\n",
       "    <tr>\n",
       "      <th>3</th>\n",
       "      <td>4</td>\n",
       "      <td>AJ5KAJAHEHA39</td>\n",
       "      <td>B00005ML71</td>\n",
       "      <td>{'Style:': ' Volume Expression Pedal'}</td>\n",
       "      <td>works s it should and it doesn't weigh too muc...</td>\n",
       "      <td>good for the money</td>\n",
       "      <td>NaN</td>\n",
       "    </tr>\n",
       "    <tr>\n",
       "      <th>4</th>\n",
       "      <td>3</td>\n",
       "      <td>A2MDD1D5AUN6BB</td>\n",
       "      <td>B00005ML71</td>\n",
       "      <td>{'Style:': ' Volume Expression Pedal'}</td>\n",
       "      <td>This pedal appeared to be of very good quality...</td>\n",
       "      <td>No right angle plug or removable cord</td>\n",
       "      <td>4.0</td>\n",
       "    </tr>\n",
       "    <tr>\n",
       "      <th>...</th>\n",
       "      <td>...</td>\n",
       "      <td>...</td>\n",
       "      <td>...</td>\n",
       "      <td>...</td>\n",
       "      <td>...</td>\n",
       "      <td>...</td>\n",
       "      <td>...</td>\n",
       "    </tr>\n",
       "    <tr>\n",
       "      <th>307</th>\n",
       "      <td>5</td>\n",
       "      <td>A21Y2AM6WWUUAI</td>\n",
       "      <td>B000068NTU</td>\n",
       "      <td>{'Size:': ' 1 Foot'}</td>\n",
       "      <td>Every Hosa cable I have owned works well, and ...</td>\n",
       "      <td>Just works</td>\n",
       "      <td>NaN</td>\n",
       "    </tr>\n",
       "    <tr>\n",
       "      <th>308</th>\n",
       "      <td>5</td>\n",
       "      <td>A39JMLMY96E8CP</td>\n",
       "      <td>B000068NTU</td>\n",
       "      <td>{'Size:': ' 20 Feet'}</td>\n",
       "      <td>The cable is flawless and a great bargain.\\nTh...</td>\n",
       "      <td>Works Great</td>\n",
       "      <td>NaN</td>\n",
       "    </tr>\n",
       "    <tr>\n",
       "      <th>309</th>\n",
       "      <td>3</td>\n",
       "      <td>A3NKOC7K8UHB9W</td>\n",
       "      <td>B000068NTU</td>\n",
       "      <td>{'Size:': ' 5 Feet'}</td>\n",
       "      <td>Good cable not find fault so far hopefully wit...</td>\n",
       "      <td>oK</td>\n",
       "      <td>NaN</td>\n",
       "    </tr>\n",
       "    <tr>\n",
       "      <th>310</th>\n",
       "      <td>5</td>\n",
       "      <td>A2XDYUCICKEG1V</td>\n",
       "      <td>B000068NZG</td>\n",
       "      <td>{'Size:': ' 1 Foot'}</td>\n",
       "      <td>DOES THE JOB FINE</td>\n",
       "      <td>Five Stars</td>\n",
       "      <td>NaN</td>\n",
       "    </tr>\n",
       "    <tr>\n",
       "      <th>311</th>\n",
       "      <td>5</td>\n",
       "      <td>A21CJLXIU27CBK</td>\n",
       "      <td>B000068NZG</td>\n",
       "      <td>{'Size:': ' 2 Feet'}</td>\n",
       "      <td>Like all Hosa products - solid connection</td>\n",
       "      <td>Another good Hosa product</td>\n",
       "      <td>NaN</td>\n",
       "    </tr>\n",
       "  </tbody>\n",
       "</table>\n",
       "<p>312 rows × 7 columns</p>\n",
       "</div>"
      ],
      "text/plain": [
       "     overall      reviewerID        asin  \\\n",
       "0          5  A38M07PSQW4OR7  B00005ML71   \n",
       "1          5  A3USCQUVPVCBLH  B00005ML71   \n",
       "2          5  A1C0O09LOLVI39  B00005ML71   \n",
       "3          4   AJ5KAJAHEHA39  B00005ML71   \n",
       "4          3  A2MDD1D5AUN6BB  B00005ML71   \n",
       "..       ...             ...         ...   \n",
       "307        5  A21Y2AM6WWUUAI  B000068NTU   \n",
       "308        5  A39JMLMY96E8CP  B000068NTU   \n",
       "309        3  A3NKOC7K8UHB9W  B000068NTU   \n",
       "310        5  A2XDYUCICKEG1V  B000068NZG   \n",
       "311        5  A21CJLXIU27CBK  B000068NZG   \n",
       "\n",
       "                                      style  \\\n",
       "0      {'Style:': ' Compact Sustain Pedal'}   \n",
       "1    {'Style:': ' Volume Expression Pedal'}   \n",
       "2      {'Style:': ' Compact Sustain Pedal'}   \n",
       "3    {'Style:': ' Volume Expression Pedal'}   \n",
       "4    {'Style:': ' Volume Expression Pedal'}   \n",
       "..                                      ...   \n",
       "307                    {'Size:': ' 1 Foot'}   \n",
       "308                   {'Size:': ' 20 Feet'}   \n",
       "309                    {'Size:': ' 5 Feet'}   \n",
       "310                    {'Size:': ' 1 Foot'}   \n",
       "311                    {'Size:': ' 2 Feet'}   \n",
       "\n",
       "                                            reviewText  \\\n",
       "0    I got everything I expected out of my order fo...   \n",
       "1    I use this while gigging with my MOX6.  Sturdy...   \n",
       "2    I love it, I used this for my Yamaha ypt-230 a...   \n",
       "3    works s it should and it doesn't weigh too muc...   \n",
       "4    This pedal appeared to be of very good quality...   \n",
       "..                                                 ...   \n",
       "307  Every Hosa cable I have owned works well, and ...   \n",
       "308  The cable is flawless and a great bargain.\\nTh...   \n",
       "309  Good cable not find fault so far hopefully wit...   \n",
       "310                                  DOES THE JOB FINE   \n",
       "311          Like all Hosa products - solid connection   \n",
       "\n",
       "                                         summary  vote  \n",
       "0    Shipped fast and works exactly how I hoped!   NaN  \n",
       "1                                Works Perfectly   3.0  \n",
       "2                                        awesome   NaN  \n",
       "3                             good for the money   NaN  \n",
       "4          No right angle plug or removable cord   4.0  \n",
       "..                                           ...   ...  \n",
       "307                                   Just works   NaN  \n",
       "308                                  Works Great   NaN  \n",
       "309                                           oK   NaN  \n",
       "310                                   Five Stars   NaN  \n",
       "311                    Another good Hosa product   NaN  \n",
       "\n",
       "[312 rows x 7 columns]"
      ]
     },
     "execution_count": 3,
     "metadata": {},
     "output_type": "execute_result"
    }
   ],
   "source": [
    "# To view contents of cleaned dataset from del_keys() step:\n",
    "musical_instruments_cleaned_ = pd.read_json('../datasets_output/musical_instruments_dir/musical_instruments_cleaned.json')\n",
    "musical_instruments_cleaned_"
   ]
  },
  {
   "cell_type": "code",
   "execution_count": 4,
   "id": "3ee51ee6-70d7-4502-9c68-4bd058dc7ac9",
   "metadata": {},
   "outputs": [
    {
     "name": "stdout",
     "output_type": "stream",
     "text": [
      "(312, 7)\n"
     ]
    }
   ],
   "source": [
    "# Number of rows and columns in cleaned dataset:\n",
    "print(musical_instruments_cleaned_.shape)"
   ]
  },
  {
   "cell_type": "code",
   "execution_count": 5,
   "id": "fa835ab9-b7ab-43f4-8707-d05a272b8030",
   "metadata": {},
   "outputs": [
    {
     "name": "stdout",
     "output_type": "stream",
     "text": [
      "overall         int64\n",
      "reviewerID     object\n",
      "asin           object\n",
      "style          object\n",
      "reviewText     object\n",
      "summary        object\n",
      "vote          float64\n",
      "dtype: object\n"
     ]
    }
   ],
   "source": [
    "# Data types of each variables/columns:\n",
    "print(musical_instruments_cleaned_.dtypes)"
   ]
  },
  {
   "cell_type": "code",
   "execution_count": 6,
   "id": "0390f854-19e9-4378-900c-516fc0af69d8",
   "metadata": {},
   "outputs": [
    {
     "name": "stdout",
     "output_type": "stream",
     "text": [
      "          overall     vote\n",
      "count  312.000000  6.00000\n",
      "mean     4.615385  4.00000\n",
      "std      0.785410  1.67332\n",
      "min      1.000000  2.00000\n",
      "25%      4.000000  3.25000\n",
      "50%      5.000000  4.00000\n",
      "75%      5.000000  4.00000\n",
      "max      5.000000  7.00000\n"
     ]
    }
   ],
   "source": [
    "# Descriptive summary of cleaned dataset:\n",
    "print(musical_instruments_cleaned_.describe())"
   ]
  },
  {
   "cell_type": "code",
   "execution_count": 7,
   "id": "214e0449-bbb6-40ce-8d24-ae74aded31eb",
   "metadata": {},
   "outputs": [
    {
     "name": "stdout",
     "output_type": "stream",
     "text": [
      "<class 'pandas.core.frame.DataFrame'>\n",
      "RangeIndex: 312 entries, 0 to 311\n",
      "Data columns (total 7 columns):\n",
      " #   Column      Non-Null Count  Dtype  \n",
      "---  ------      --------------  -----  \n",
      " 0   overall     312 non-null    int64  \n",
      " 1   reviewerID  312 non-null    object \n",
      " 2   asin        312 non-null    object \n",
      " 3   style       309 non-null    object \n",
      " 4   reviewText  312 non-null    object \n",
      " 5   summary     312 non-null    object \n",
      " 6   vote        6 non-null      float64\n",
      "dtypes: float64(1), int64(1), object(5)\n",
      "memory usage: 17.2+ KB\n",
      "None\n"
     ]
    }
   ],
   "source": [
    "# General information about cleaned dataset:\n",
    "print(musical_instruments_cleaned_.info())"
   ]
  },
  {
   "cell_type": "markdown",
   "id": "708323fd-904e-4aa5-a1a5-ce2af1745d44",
   "metadata": {},
   "source": [
    "### Performing Sentiment Analysis:"
   ]
  },
  {
   "cell_type": "code",
   "execution_count": 8,
   "id": "f0ca2038-fdfd-4c80-970c-49713b4c98e4",
   "metadata": {},
   "outputs": [],
   "source": [
    "users_review_text = []\n",
    "products_id = []\n",
    "sentiment_scores = []\n",
    "\n",
    "with open('../datasets_output/musical_instruments_dir/musical_instruments_cleaned.json') as file:\n",
    "    data = json.load(file)\n",
    "\n",
    "    for item in data:\n",
    "        # review text\n",
    "        review_text = item['reviewText']\n",
    "        # print(review_text.replace(\"\\n\\n\", \" \").replace(\"  \", \" \"))\n",
    "        users_review_text.append(review_text.replace(\"\\n\\n\", \" \").replace(\"  \", \" \"))\n",
    "\n",
    "        product_id = item['asin']\n",
    "        products_id.append(product_id)\n",
    "\n",
    "        # sentiment score\n",
    "        scores = analyzer.polarity_scores(review_text)\n",
    "        sentiment_score = scores['compound']\n",
    "\n",
    "        sentiment_scores.append(sentiment_score)"
   ]
  },
  {
   "cell_type": "code",
   "execution_count": 9,
   "id": "998aa0aa-3228-4f21-98db-27070efc9731",
   "metadata": {},
   "outputs": [
    {
     "data": {
      "image/png": "[encoded data removed]",
      "text/plain": [
       "<Figure size 648x864 with 1 Axes>"
      ]
     },
     "metadata": {
      "needs_background": "light"
     },
     "output_type": "display_data"
    }
   ],
   "source": [
    "# To create bar graph for each product category:\n",
    "bar_graph_data = {\n",
    "    'x': products_id,\n",
    "    'y': sentiment_scores\n",
    "}\n",
    "\n",
    "plt.figure(figsize=(9, 12))\n",
    "sns.barplot(data=bar_graph_data, x='x', y='y')\n",
    "plt.title(\"Sentiment scores of each product in Office-Products category\")\n",
    "plt.xlabel(\"Product IDs\")\n",
    "plt.ylabel(\"Sentiment Scores\")\n",
    "plt.xticks(rotation=90);\n",
    "# plt.savefig('../datasets_output/musical_instruments_dir/musical_instruments_senti_graph.png')"
   ]
  },
  {
   "cell_type": "code",
   "execution_count": 10,
   "id": "05a14ae6-8088-4ec0-a0b8-b4dd0be5c390",
   "metadata": {},
   "outputs": [
    {
     "data": {
      "text/html": [
       "<div>\n",
       "<style scoped>\n",
       "    .dataframe tbody tr th:only-of-type {\n",
       "        vertical-align: middle;\n",
       "    }\n",
       "\n",
       "    .dataframe tbody tr th {\n",
       "        vertical-align: top;\n",
       "    }\n",
       "\n",
       "    .dataframe thead th {\n",
       "        text-align: right;\n",
       "    }\n",
       "</style>\n",
       "<table border=\"1\" class=\"dataframe\">\n",
       "  <thead>\n",
       "    <tr style=\"text-align: right;\">\n",
       "      <th></th>\n",
       "      <th>user_review</th>\n",
       "      <th>product_id</th>\n",
       "      <th>sentiment_score</th>\n",
       "    </tr>\n",
       "  </thead>\n",
       "  <tbody>\n",
       "    <tr>\n",
       "      <th>0</th>\n",
       "      <td>I got everything I expected out of my order fo...</td>\n",
       "      <td>B00005ML71</td>\n",
       "      <td>0.7840</td>\n",
       "    </tr>\n",
       "    <tr>\n",
       "      <th>1</th>\n",
       "      <td>I use this while gigging with my MOX6. Sturdy,...</td>\n",
       "      <td>B00005ML71</td>\n",
       "      <td>0.7579</td>\n",
       "    </tr>\n",
       "    <tr>\n",
       "      <th>2</th>\n",
       "      <td>I love it, I used this for my Yamaha ypt-230 a...</td>\n",
       "      <td>B00005ML71</td>\n",
       "      <td>0.8957</td>\n",
       "    </tr>\n",
       "    <tr>\n",
       "      <th>3</th>\n",
       "      <td>works s it should and it doesn't weigh too muc...</td>\n",
       "      <td>B00005ML71</td>\n",
       "      <td>-0.3409</td>\n",
       "    </tr>\n",
       "    <tr>\n",
       "      <th>4</th>\n",
       "      <td>This pedal appeared to be of very good quality...</td>\n",
       "      <td>B00005ML71</td>\n",
       "      <td>0.0565</td>\n",
       "    </tr>\n",
       "    <tr>\n",
       "      <th>...</th>\n",
       "      <td>...</td>\n",
       "      <td>...</td>\n",
       "      <td>...</td>\n",
       "    </tr>\n",
       "    <tr>\n",
       "      <th>307</th>\n",
       "      <td>Every Hosa cable I have owned works well, and ...</td>\n",
       "      <td>B000068NTU</td>\n",
       "      <td>0.4404</td>\n",
       "    </tr>\n",
       "    <tr>\n",
       "      <th>308</th>\n",
       "      <td>The cable is flawless and a great bargain.\\nTh...</td>\n",
       "      <td>B000068NTU</td>\n",
       "      <td>0.7906</td>\n",
       "    </tr>\n",
       "    <tr>\n",
       "      <th>309</th>\n",
       "      <td>Good cable not find fault so far hopefully wit...</td>\n",
       "      <td>B000068NTU</td>\n",
       "      <td>0.8451</td>\n",
       "    </tr>\n",
       "    <tr>\n",
       "      <th>310</th>\n",
       "      <td>DOES THE JOB FINE</td>\n",
       "      <td>B000068NZG</td>\n",
       "      <td>0.2023</td>\n",
       "    </tr>\n",
       "    <tr>\n",
       "      <th>311</th>\n",
       "      <td>Like all Hosa products - solid connection</td>\n",
       "      <td>B000068NZG</td>\n",
       "      <td>0.4767</td>\n",
       "    </tr>\n",
       "  </tbody>\n",
       "</table>\n",
       "<p>312 rows × 3 columns</p>\n",
       "</div>"
      ],
      "text/plain": [
       "                                           user_review  product_id  \\\n",
       "0    I got everything I expected out of my order fo...  B00005ML71   \n",
       "1    I use this while gigging with my MOX6. Sturdy,...  B00005ML71   \n",
       "2    I love it, I used this for my Yamaha ypt-230 a...  B00005ML71   \n",
       "3    works s it should and it doesn't weigh too muc...  B00005ML71   \n",
       "4    This pedal appeared to be of very good quality...  B00005ML71   \n",
       "..                                                 ...         ...   \n",
       "307  Every Hosa cable I have owned works well, and ...  B000068NTU   \n",
       "308  The cable is flawless and a great bargain.\\nTh...  B000068NTU   \n",
       "309  Good cable not find fault so far hopefully wit...  B000068NTU   \n",
       "310                                  DOES THE JOB FINE  B000068NZG   \n",
       "311          Like all Hosa products - solid connection  B000068NZG   \n",
       "\n",
       "     sentiment_score  \n",
       "0             0.7840  \n",
       "1             0.7579  \n",
       "2             0.8957  \n",
       "3            -0.3409  \n",
       "4             0.0565  \n",
       "..               ...  \n",
       "307           0.4404  \n",
       "308           0.7906  \n",
       "309           0.8451  \n",
       "310           0.2023  \n",
       "311           0.4767  \n",
       "\n",
       "[312 rows x 3 columns]"
      ]
     },
     "execution_count": 10,
     "metadata": {},
     "output_type": "execute_result"
    }
   ],
   "source": [
    "# Compile data for Pandas DataFrame:\n",
    "data = {\n",
    "    'user_review': users_review_text,\n",
    "    'product_id': products_id,\n",
    "    'sentiment_score': sentiment_scores\n",
    "}\n",
    "\n",
    "# Create Pandas DataFrame:\n",
    "reviews_df = pd.DataFrame(data)\n",
    "reviews_df"
   ]
  },
  {
   "cell_type": "code",
   "execution_count": 11,
   "id": "0e3ef268-686e-465f-a990-38c6d147fca2",
   "metadata": {},
   "outputs": [],
   "source": [
    "reviews_df.to_csv('../datasets_output/musical_instruments_dir/musical_instruments_sa_df.csv', index=None)"
   ]
  },
  {
   "cell_type": "code",
   "execution_count": 12,
   "id": "664543b1-a320-4475-8fef-c27590edf327",
   "metadata": {},
   "outputs": [
    {
     "name": "stdout",
     "output_type": "stream",
     "text": [
      "product_id\n",
      "B000068NTU    135\n",
      "B000068NVJ     54\n",
      "B000068NUQ     37\n",
      "B000068NYM     22\n",
      "B00005ML71     19\n",
      "B000068NZG     18\n",
      "B000068NZD     16\n",
      "B000068NSX     10\n",
      "B000068NTC      1\n",
      "dtype: int64\n"
     ]
    }
   ],
   "source": [
    "# To know how many reviews are there for each product_id variable:\n",
    "print(reviews_df[['product_id']].value_counts())"
   ]
  },
  {
   "cell_type": "code",
   "execution_count": 13,
   "id": "45c66275-2d14-4d63-a49b-468621ca3f76",
   "metadata": {},
   "outputs": [
    {
     "name": "stdout",
     "output_type": "stream",
     "text": [
      "Number of products in Office-Products category: 9\n"
     ]
    }
   ],
   "source": [
    "# To know number of products in office_products category:\n",
    "print(\"Number of products in Office-Products category:\", len(reviews_df[['product_id']].value_counts()))"
   ]
  },
  {
   "cell_type": "code",
   "execution_count": 14,
   "id": "32e8c734-e22e-40cc-b3b8-55d7ade81bb5",
   "metadata": {},
   "outputs": [],
   "source": [
    "# To compute the average (mean) of each product's sentiment score:\n",
    "sentiment_avg_score = reviews_df.groupby('product_id').mean()[['sentiment_score']]  # returns df object"
   ]
  },
  {
   "cell_type": "code",
   "execution_count": 15,
   "id": "7dd90c58-e0a9-432a-9913-b9b92a187e49",
   "metadata": {},
   "outputs": [
    {
     "name": "stdout",
     "output_type": "stream",
     "text": [
      "<class 'pandas.core.frame.DataFrame'>\n"
     ]
    }
   ],
   "source": [
    "print(type(sentiment_avg_score))"
   ]
  },
  {
   "cell_type": "code",
   "execution_count": 16,
   "id": "5f41440e-89f9-4cc8-8828-fa99de438db4",
   "metadata": {},
   "outputs": [
    {
     "data": {
      "text/html": [
       "<div>\n",
       "<style scoped>\n",
       "    .dataframe tbody tr th:only-of-type {\n",
       "        vertical-align: middle;\n",
       "    }\n",
       "\n",
       "    .dataframe tbody tr th {\n",
       "        vertical-align: top;\n",
       "    }\n",
       "\n",
       "    .dataframe thead th {\n",
       "        text-align: right;\n",
       "    }\n",
       "</style>\n",
       "<table border=\"1\" class=\"dataframe\">\n",
       "  <thead>\n",
       "    <tr style=\"text-align: right;\">\n",
       "      <th></th>\n",
       "      <th>sentiment_score</th>\n",
       "    </tr>\n",
       "    <tr>\n",
       "      <th>product_id</th>\n",
       "      <th></th>\n",
       "    </tr>\n",
       "  </thead>\n",
       "  <tbody>\n",
       "    <tr>\n",
       "      <th>B00005ML71</th>\n",
       "      <td>0.389537</td>\n",
       "    </tr>\n",
       "    <tr>\n",
       "      <th>B000068NSX</th>\n",
       "      <td>0.729440</td>\n",
       "    </tr>\n",
       "    <tr>\n",
       "      <th>B000068NTC</th>\n",
       "      <td>0.960600</td>\n",
       "    </tr>\n",
       "    <tr>\n",
       "      <th>B000068NTU</th>\n",
       "      <td>0.324043</td>\n",
       "    </tr>\n",
       "    <tr>\n",
       "      <th>B000068NUQ</th>\n",
       "      <td>0.271157</td>\n",
       "    </tr>\n",
       "    <tr>\n",
       "      <th>B000068NVJ</th>\n",
       "      <td>0.517643</td>\n",
       "    </tr>\n",
       "    <tr>\n",
       "      <th>B000068NYM</th>\n",
       "      <td>0.401523</td>\n",
       "    </tr>\n",
       "    <tr>\n",
       "      <th>B000068NZD</th>\n",
       "      <td>0.328744</td>\n",
       "    </tr>\n",
       "    <tr>\n",
       "      <th>B000068NZG</th>\n",
       "      <td>0.298311</td>\n",
       "    </tr>\n",
       "  </tbody>\n",
       "</table>\n",
       "</div>"
      ],
      "text/plain": [
       "            sentiment_score\n",
       "product_id                 \n",
       "B00005ML71         0.389537\n",
       "B000068NSX         0.729440\n",
       "B000068NTC         0.960600\n",
       "B000068NTU         0.324043\n",
       "B000068NUQ         0.271157\n",
       "B000068NVJ         0.517643\n",
       "B000068NYM         0.401523\n",
       "B000068NZD         0.328744\n",
       "B000068NZG         0.298311"
      ]
     },
     "execution_count": 16,
     "metadata": {},
     "output_type": "execute_result"
    }
   ],
   "source": [
    "# To view the sentiment ave score:\n",
    "\n",
    "sentiment_avg_score"
   ]
  },
  {
   "cell_type": "code",
   "execution_count": 17,
   "id": "001134b7-88a7-4670-8452-f81a4acd38a4",
   "metadata": {},
   "outputs": [
    {
     "name": "stdout",
     "output_type": "stream",
     "text": [
      "            sentiment_score\n",
      "product_id                 \n",
      "B00005ML71             39.0\n",
      "B000068NSX             73.0\n",
      "B000068NTC             96.0\n",
      "B000068NTU             32.0\n",
      "B000068NUQ             27.0\n",
      "B000068NVJ             52.0\n",
      "B000068NYM             40.0\n",
      "B000068NZD             33.0\n",
      "B000068NZG             30.0\n"
     ]
    }
   ],
   "source": [
    "# Rounding off average scores:\n",
    "print(sentiment_avg_score.round({'sentiment_score': 2}) * 100)"
   ]
  },
  {
   "cell_type": "code",
   "execution_count": 38,
   "id": "e8393a0d-6bfd-45b4-bc03-ee1c9e7148d3",
   "metadata": {},
   "outputs": [
    {
     "data": {
      "image/png": "[encoded data removed]",
      "text/plain": [
       "<Figure size 648x864 with 1 Axes>"
      ]
     },
     "metadata": {},
     "output_type": "display_data"
    }
   ],
   "source": [
    "# To plot pie-chart for the sentiment_avg_score:\n",
    "\n",
    "sns.set_style(\"whitegrid\")\n",
    "sentiment_avg_score.plot.pie(autopct=\"%.1f%%\", \n",
    "                             subplots=True, \n",
    "                             startangle=37, \n",
    "                             figsize=(9,12),\n",
    "                             title=\"Graphical representation of proportion of \\n\" + \"Average Sentiment Score of each product\");"
   ]
  },
  {
   "cell_type": "markdown",
   "id": "b54dd06c-07f0-4e9e-a611-2e570b5b187e",
   "metadata": {},
   "source": [
    "#### Key insights from this pie-chart:\n",
    "> - This pie-chart shows the proportion of each product w.r.t their average sentiment score.\n",
    "> - The product_id B000068NTC has received highest reviews thus highest average sentiment score.\n",
    "> - So the product_id B000068NUQ received lesser sentiment reaction\n",
    "> - Please note pie-chart doesn't represent whether the sentiment score was positive or non-positive"
   ]
  },
  {
   "cell_type": "markdown",
   "id": "92d06554-f40d-466a-afc5-494ab31bfa97",
   "metadata": {},
   "source": [
    "### Summary:\n",
    "\n",
    "> - I have done the EDA to understand the dataset to perform Sentiment Analysis.\n",
    "> - From this Sentiment Analysis, helps to determine how each product or its sellers are performing:\n",
    "    - The above 'sentiment_avg_score' computation shows information such as which products are doing well, below average or above average. \n",
    "> - These analysis will help understand the sales pattern and to further improvise on the business/sales to meet the KPIs.\n",
    "> - This leads to the scope to build Text Classifier model for analysing the sentiment of the products review to help keep track of the business!"
   ]
  }
 ],
 "metadata": {
  "kernelspec": {
   "display_name": "Python 3",
   "language": "python",
   "name": "python3"
  },
  "language_info": {
   "codemirror_mode": {
    "name": "ipython",
    "version": 3
   },
   "file_extension": ".py",
   "mimetype": "text/x-python",
   "name": "python",
   "nbconvert_exporter": "python",
   "pygments_lexer": "ipython3",
   "version": "3.8.3"
  }
 },
 "nbformat": 4,
 "nbformat_minor": 5
}
