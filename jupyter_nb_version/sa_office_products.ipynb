{
 "cells": [
  {
   "cell_type": "markdown",
   "id": "6eef0608-f39d-4e09-8053-c9e1d4076f6d",
   "metadata": {},
   "source": [
    "### EDA and Sentiment Analysis:\n",
    "\n",
    "> - For Amazon's products reviews datasets available at \n",
    "    - https://snap.stanford.edu/data/web-Amazon.html\n",
    "    - https://nijianmo.github.io/amazon/index.html#code\n",
    "> - Steps performed:\n",
    "    - EDA\n",
    "    - Data Cleaning\n",
    "    - Sentiment Analysis\n",
    "> - Functions written to perform on musical_instruments category of Amazon's products reviews dataset."
   ]
  },
  {
   "cell_type": "code",
   "execution_count": 1,
   "id": "9fcb14e4-8607-4377-a831-0eb8cd9fd4e4",
   "metadata": {},
   "outputs": [],
   "source": [
    "import json\n",
    "import nltk.sentiment\n",
    "\n",
    "import pandas as pd\n",
    "\n",
    "import seaborn as sns\n",
    "import matplotlib.pyplot as plt\n",
    "\n",
    "analyzer = nltk.sentiment.SentimentIntensityAnalyzer()"
   ]
  },
  {
   "cell_type": "markdown",
   "id": "7cfe992b-3e06-44b1-b1ae-6260e32b9fb9",
   "metadata": {},
   "source": [
    "### Data Cleaning the raw dataset by removing unwanted variables using del_keys() function:"
   ]
  },
  {
   "cell_type": "code",
   "execution_count": 2,
   "id": "a38de4dd-d6d3-4f70-a32b-6f143087f776",
   "metadata": {},
   "outputs": [
    {
     "name": "stdout",
     "output_type": "stream",
     "text": [
      "312\n",
      "312\n",
      "312\n"
     ]
    }
   ],
   "source": [
    "def del_key():\n",
    "    with open('../datasets_raw/reviews_ori_data.json') as data_file:\n",
    "        products_data = json.load(data_file)\n",
    "\n",
    "        print(len(products_data['musical_instruments']))\n",
    "        print(len(products_data['software_products']))\n",
    "        print(len(products_data['office_products']))\n",
    "\n",
    "    for item_ in products_data['office_products']:\n",
    "\n",
    "        for key_ in ['verified', 'reviewerName', 'reviewTime', 'unixReviewTime']:\n",
    "            item_.pop(key_)\n",
    "\n",
    "    with open('../datasets_output/office_products_dir/office_products_cleaned.json', 'w') as data_file:\n",
    "        json.dump(products_data['office_products'], data_file, indent=4)\n",
    "\n",
    "\n",
    "del_key()"
   ]
  },
  {
   "cell_type": "markdown",
   "id": "7b0715dc-44f7-4eb4-9566-2dd61fa129d4",
   "metadata": {},
   "source": [
    "### Exploratory Data Analysis"
   ]
  },
  {
   "cell_type": "code",
   "execution_count": 3,
   "id": "9a4942a8-c317-4148-8ced-d55d5f3df1b4",
   "metadata": {},
   "outputs": [
    {
     "name": "stdout",
     "output_type": "stream",
     "text": [
      "     overall      reviewerID        asin                             style  \\\n",
      "0          2  A22XHQQAWFV3BM  079451524X         {'Format:': ' Paperback'}   \n",
      "1          5   AUD6SDCHX3FQR  079451524X         {'Format:': ' Paperback'}   \n",
      "2          5  A3LE9RVH7ARH4J  079451524X         {'Format:': ' Paperback'}   \n",
      "3          5  A1O67VSDMVN44C  079451524X         {'Format:': ' Paperback'}   \n",
      "4          4  A2SA2BX8NIZCZO  079451524X         {'Format:': ' Paperback'}   \n",
      "..       ...             ...         ...                               ...   \n",
      "307        1  A2HJXRKCPU0MPC  1223064425       {'Style:': ' Trutti Fruti'}   \n",
      "308        4  A1F41PH89SL6JB  1223064417  {'Style:': ' Yummy Scented Gel'}   \n",
      "309        4  A2V5R1YW3JLXLU  1223064425       {'Style:': ' Trutti Fruti'}   \n",
      "310        2  A2W709EYNPW7LO  1223064425                               NaN   \n",
      "311        5  A39WK6DH0C8LIM  1223064425       {'Style:': ' Trutti Fruti'}   \n",
      "\n",
      "                                            reviewText  \\\n",
      "0                                       too much fluff   \n",
      "1    I bought this for my daughter (7) to go along ...   \n",
      "2                                        Well written!   \n",
      "3    This book has alot of information and is worth...   \n",
      "4    I'm a biology professor, and I teach microscop...   \n",
      "..                                                 ...   \n",
      "307  So disappointed with the way the ink does not ...   \n",
      "308  I bought these at a book store and they were r...   \n",
      "309  Fun to use... Colored in a pattern using all o...   \n",
      "310  Flows easily but gloppy, resulting in too much...   \n",
      "311  my 9 year old daughter loves these.  She even ...   \n",
      "\n",
      "                                        summary  vote  \n",
      "0                                     Two Stars   NaN  \n",
      "1    Great book for elementary-middle schoolers   5.0  \n",
      "2                    Beginning with microscopes   NaN  \n",
      "3                                great product.   3.0  \n",
      "4                                     This book  96.0  \n",
      "..                                          ...   ...  \n",
      "307                                    One Star   NaN  \n",
      "308                               Good Gel Pens   NaN  \n",
      "309                                  Fun to use   3.0  \n",
      "310                        Not worth the money.   NaN  \n",
      "311                     9-year old loves these.   2.0  \n",
      "\n",
      "[312 rows x 7 columns]\n"
     ]
    }
   ],
   "source": [
    "# To view contents of cleaned dataset from del_keys() step:\n",
    "office_products_cleaned_ = pd.read_json('../datasets_output/office_products_dir/office_products_cleaned.json')\n",
    "print(office_products_cleaned_)"
   ]
  },
  {
   "cell_type": "code",
   "execution_count": 4,
   "id": "cd3a5555-c7d2-48aa-983e-f81793a706a0",
   "metadata": {},
   "outputs": [
    {
     "name": "stdout",
     "output_type": "stream",
     "text": [
      "(312, 7)\n"
     ]
    }
   ],
   "source": [
    "# Number of rows and columns in cleaned dataset:\n",
    "print(office_products_cleaned_.shape)"
   ]
  },
  {
   "cell_type": "code",
   "execution_count": 5,
   "id": "d7ba883d-50aa-472e-a750-ff94284a8cd2",
   "metadata": {},
   "outputs": [
    {
     "name": "stdout",
     "output_type": "stream",
     "text": [
      "          overall       vote\n",
      "count  312.000000  42.000000\n",
      "mean     4.461538   7.047619\n",
      "std      1.044875  14.610308\n",
      "min      1.000000   2.000000\n",
      "25%      4.000000   2.000000\n",
      "50%      5.000000   3.000000\n",
      "75%      5.000000   6.500000\n",
      "max      5.000000  96.000000\n"
     ]
    }
   ],
   "source": [
    "# Descriptive summary of cleaned dataset:\n",
    "print(office_products_cleaned_.describe())"
   ]
  },
  {
   "cell_type": "code",
   "execution_count": 6,
   "id": "da077f91-2797-44d6-949f-e8b43d1bac81",
   "metadata": {},
   "outputs": [
    {
     "name": "stdout",
     "output_type": "stream",
     "text": [
      "overall         int64\n",
      "reviewerID     object\n",
      "asin           object\n",
      "style          object\n",
      "reviewText     object\n",
      "summary        object\n",
      "vote          float64\n",
      "dtype: object\n"
     ]
    }
   ],
   "source": [
    "# Data types of each variables/columns:\n",
    "print(office_products_cleaned_.dtypes)"
   ]
  },
  {
   "cell_type": "code",
   "execution_count": 7,
   "id": "f8226ffa-5606-4a90-a9a9-094217bf9273",
   "metadata": {},
   "outputs": [
    {
     "name": "stdout",
     "output_type": "stream",
     "text": [
      "<class 'pandas.core.frame.DataFrame'>\n",
      "RangeIndex: 312 entries, 0 to 311\n",
      "Data columns (total 7 columns):\n",
      " #   Column      Non-Null Count  Dtype  \n",
      "---  ------      --------------  -----  \n",
      " 0   overall     312 non-null    int64  \n",
      " 1   reviewerID  312 non-null    object \n",
      " 2   asin        312 non-null    object \n",
      " 3   style       243 non-null    object \n",
      " 4   reviewText  312 non-null    object \n",
      " 5   summary     312 non-null    object \n",
      " 6   vote        42 non-null     float64\n",
      "dtypes: float64(1), int64(1), object(5)\n",
      "memory usage: 17.2+ KB\n",
      "None\n"
     ]
    }
   ],
   "source": [
    "# General information about cleaned dataset:\n",
    "print(office_products_cleaned_.info())"
   ]
  },
  {
   "cell_type": "markdown",
   "id": "f2f5e12a-a3d2-4efc-af69-d5838150439a",
   "metadata": {},
   "source": [
    "### Performing Sentiment Analysis"
   ]
  },
  {
   "cell_type": "code",
   "execution_count": 8,
   "id": "9173b999-d91d-415f-993b-d805efa1cfcf",
   "metadata": {},
   "outputs": [],
   "source": [
    "users_review_text = []\n",
    "products_id = []\n",
    "sentiment_scores = []\n",
    "\n",
    "with open('../datasets_output/office_products_dir/office_products_cleaned.json') as file:\n",
    "    data = json.load(file)\n",
    "\n",
    "    for item in data:\n",
    "        # review text\n",
    "        review_text = item['reviewText']\n",
    "        # print(review_text.replace(\"\\n\\n\", \" \").replace(\"  \", \" \"))\n",
    "        users_review_text.append(review_text.replace(\"\\n\\n\", \" \").replace(\"  \", \" \"))\n",
    "\n",
    "        product_id = item['asin']\n",
    "        products_id.append(product_id)\n",
    "\n",
    "        # sentiment score\n",
    "        scores = analyzer.polarity_scores(review_text)\n",
    "        sentiment_score = scores['compound']\n",
    "\n",
    "        sentiment_scores.append(sentiment_score)"
   ]
  },
  {
   "cell_type": "code",
   "execution_count": 9,
   "id": "f63259f2-a8de-4e4b-a9d2-850dbc718da7",
   "metadata": {},
   "outputs": [
    {
     "data": {
      "image/png": "[encoded data removed]",
      "text/plain": [
       "<Figure size 648x864 with 1 Axes>"
      ]
     },
     "metadata": {
      "needs_background": "light"
     },
     "output_type": "display_data"
    }
   ],
   "source": [
    "# To create bar graph for each product category:\n",
    "bar_graph_data = {\n",
    "    'x': products_id,\n",
    "    'y': sentiment_scores\n",
    "}\n",
    "\n",
    "plt.figure(figsize=(9, 12))\n",
    "sns.barplot(x='x', y='y', data=bar_graph_data)\n",
    "plt.title(\"Sentiment scores of each product in Office-Products category\")\n",
    "plt.xlabel(\"Product IDs\")\n",
    "plt.ylabel(\"Sentiment Scores\")\n",
    "plt.xticks(rotation=90);\n",
    "# plt.savefig('../datasets_output/office_products_dir/office_products_senti_graph.png')"
   ]
  },
  {
   "cell_type": "code",
   "execution_count": 10,
   "id": "69eeba4f-0c6b-44de-b5df-7fc1034752da",
   "metadata": {},
   "outputs": [
    {
     "name": "stdout",
     "output_type": "stream",
     "text": [
      "                                           user_review  product_id  \\\n",
      "0                                       too much fluff  079451524X   \n",
      "1    I bought this for my daughter (7) to go along ...  079451524X   \n",
      "2                                        Well written!  079451524X   \n",
      "3    This book has alot of information and is worth...  079451524X   \n",
      "4    I'm a biology professor, and I teach microscop...  079451524X   \n",
      "..                                                 ...         ...   \n",
      "307  So disappointed with the way the ink does not ...  1223064425   \n",
      "308  I bought these at a book store and they were r...  1223064417   \n",
      "309  Fun to use... Colored in a pattern using all o...  1223064425   \n",
      "310  Flows easily but gloppy, resulting in too much...  1223064425   \n",
      "311  my 9 year old daughter loves these. She even w...  1223064425   \n",
      "\n",
      "     sentiment_score  \n",
      "0             0.0000  \n",
      "1             0.9370  \n",
      "2             0.3382  \n",
      "3             0.2263  \n",
      "4             0.8027  \n",
      "..               ...  \n",
      "307          -0.5256  \n",
      "308           0.9251  \n",
      "309           0.6597  \n",
      "310          -0.0516  \n",
      "311           0.7351  \n",
      "\n",
      "[312 rows x 3 columns]\n"
     ]
    }
   ],
   "source": [
    "# Create Pandas DataFrame:\n",
    "data = {\n",
    "    'user_review': users_review_text,\n",
    "    'product_id': products_id,\n",
    "    'sentiment_score': sentiment_scores\n",
    "}\n",
    "\n",
    "reviews_df = pd.DataFrame(data)\n",
    "print(reviews_df)"
   ]
  },
  {
   "cell_type": "code",
   "execution_count": 11,
   "id": "562e9a9f-13ef-4bc8-b5c5-e9cc03ea95d9",
   "metadata": {},
   "outputs": [],
   "source": [
    "# To save the above Pandas DF to CSV:\n",
    "reviews_df.to_csv('../datasets_output/office_products_dir/office_products_sa_df.csv', index=None)"
   ]
  },
  {
   "cell_type": "code",
   "execution_count": 12,
   "id": "f1981512-a388-4f13-807b-877190639d76",
   "metadata": {},
   "outputs": [
    {
     "data": {
      "text/html": [
       "<div>\n",
       "<style scoped>\n",
       "    .dataframe tbody tr th:only-of-type {\n",
       "        vertical-align: middle;\n",
       "    }\n",
       "\n",
       "    .dataframe tbody tr th {\n",
       "        vertical-align: top;\n",
       "    }\n",
       "\n",
       "    .dataframe thead th {\n",
       "        text-align: right;\n",
       "    }\n",
       "</style>\n",
       "<table border=\"1\" class=\"dataframe\">\n",
       "  <thead>\n",
       "    <tr style=\"text-align: right;\">\n",
       "      <th></th>\n",
       "      <th>user_review</th>\n",
       "      <th>product_id</th>\n",
       "      <th>sentiment_score</th>\n",
       "    </tr>\n",
       "  </thead>\n",
       "  <tbody>\n",
       "    <tr>\n",
       "      <th>0</th>\n",
       "      <td>too much fluff</td>\n",
       "      <td>079451524X</td>\n",
       "      <td>0.0000</td>\n",
       "    </tr>\n",
       "    <tr>\n",
       "      <th>1</th>\n",
       "      <td>I bought this for my daughter (7) to go along ...</td>\n",
       "      <td>079451524X</td>\n",
       "      <td>0.9370</td>\n",
       "    </tr>\n",
       "    <tr>\n",
       "      <th>2</th>\n",
       "      <td>Well written!</td>\n",
       "      <td>079451524X</td>\n",
       "      <td>0.3382</td>\n",
       "    </tr>\n",
       "    <tr>\n",
       "      <th>3</th>\n",
       "      <td>This book has alot of information and is worth...</td>\n",
       "      <td>079451524X</td>\n",
       "      <td>0.2263</td>\n",
       "    </tr>\n",
       "    <tr>\n",
       "      <th>4</th>\n",
       "      <td>I'm a biology professor, and I teach microscop...</td>\n",
       "      <td>079451524X</td>\n",
       "      <td>0.8027</td>\n",
       "    </tr>\n",
       "    <tr>\n",
       "      <th>...</th>\n",
       "      <td>...</td>\n",
       "      <td>...</td>\n",
       "      <td>...</td>\n",
       "    </tr>\n",
       "    <tr>\n",
       "      <th>307</th>\n",
       "      <td>So disappointed with the way the ink does not ...</td>\n",
       "      <td>1223064425</td>\n",
       "      <td>-0.5256</td>\n",
       "    </tr>\n",
       "    <tr>\n",
       "      <th>308</th>\n",
       "      <td>I bought these at a book store and they were r...</td>\n",
       "      <td>1223064417</td>\n",
       "      <td>0.9251</td>\n",
       "    </tr>\n",
       "    <tr>\n",
       "      <th>309</th>\n",
       "      <td>Fun to use... Colored in a pattern using all o...</td>\n",
       "      <td>1223064425</td>\n",
       "      <td>0.6597</td>\n",
       "    </tr>\n",
       "    <tr>\n",
       "      <th>310</th>\n",
       "      <td>Flows easily but gloppy, resulting in too much...</td>\n",
       "      <td>1223064425</td>\n",
       "      <td>-0.0516</td>\n",
       "    </tr>\n",
       "    <tr>\n",
       "      <th>311</th>\n",
       "      <td>my 9 year old daughter loves these. She even w...</td>\n",
       "      <td>1223064425</td>\n",
       "      <td>0.7351</td>\n",
       "    </tr>\n",
       "  </tbody>\n",
       "</table>\n",
       "<p>312 rows × 3 columns</p>\n",
       "</div>"
      ],
      "text/plain": [
       "                                           user_review  product_id  \\\n",
       "0                                       too much fluff  079451524X   \n",
       "1    I bought this for my daughter (7) to go along ...  079451524X   \n",
       "2                                        Well written!  079451524X   \n",
       "3    This book has alot of information and is worth...  079451524X   \n",
       "4    I'm a biology professor, and I teach microscop...  079451524X   \n",
       "..                                                 ...         ...   \n",
       "307  So disappointed with the way the ink does not ...  1223064425   \n",
       "308  I bought these at a book store and they were r...  1223064417   \n",
       "309  Fun to use... Colored in a pattern using all o...  1223064425   \n",
       "310  Flows easily but gloppy, resulting in too much...  1223064425   \n",
       "311  my 9 year old daughter loves these. She even w...  1223064425   \n",
       "\n",
       "     sentiment_score  \n",
       "0             0.0000  \n",
       "1             0.9370  \n",
       "2             0.3382  \n",
       "3             0.2263  \n",
       "4             0.8027  \n",
       "..               ...  \n",
       "307          -0.5256  \n",
       "308           0.9251  \n",
       "309           0.6597  \n",
       "310          -0.0516  \n",
       "311           0.7351  \n",
       "\n",
       "[312 rows x 3 columns]"
      ]
     },
     "execution_count": 12,
     "metadata": {},
     "output_type": "execute_result"
    }
   ],
   "source": [
    "reviews_df"
   ]
  },
  {
   "cell_type": "code",
   "execution_count": 13,
   "id": "689e30ab-dac6-4a05-855f-bbdf1a80c000",
   "metadata": {},
   "outputs": [
    {
     "name": "stdout",
     "output_type": "stream",
     "text": [
      "product_id\n",
      "0976142503    32\n",
      "1223078167    27\n",
      "1223064417    27\n",
      "0989492362    25\n",
      "1223064425    21\n",
      "0980006619    19\n",
      "099337980X    18\n",
      "099132384X    15\n",
      "0991846222    13\n",
      "0978534425    13\n",
      "0996337407    12\n",
      "0887249825    10\n",
      "0991557581    10\n",
      "0991557530     9\n",
      "0899332897     8\n",
      "0811859363     7\n",
      "0929261135     5\n",
      "0887242782     5\n",
      "079451524X     5\n",
      "0887245587     4\n",
      "0894557696     4\n",
      "0887242693     4\n",
      "0805474536     4\n",
      "1223068749     4\n",
      "0899334415     4\n",
      "0805404546     3\n",
      "0990479072     2\n",
      "0976423324     2\n",
      "dtype: int64\n"
     ]
    }
   ],
   "source": [
    "# To know how many reviews are there for each product_id variable:\n",
    "print(reviews_df[['product_id']].value_counts())"
   ]
  },
  {
   "cell_type": "code",
   "execution_count": 14,
   "id": "580d86b5-642e-4337-986c-86163201e250",
   "metadata": {},
   "outputs": [
    {
     "name": "stdout",
     "output_type": "stream",
     "text": [
      "Number of products in Office-Products category: 28\n"
     ]
    }
   ],
   "source": [
    "# To know number of products in office_products category:\n",
    "print(\"Number of products in Office-Products category:\", len(reviews_df[['product_id']].value_counts()))"
   ]
  },
  {
   "cell_type": "code",
   "execution_count": 15,
   "id": "044cd5f0-50f5-42b0-af62-4502e5a9e9a7",
   "metadata": {},
   "outputs": [],
   "source": [
    "# To compute the average (mean) of each product's sentiment score:\n",
    "sentiment_avg_score = reviews_df.groupby('product_id').mean()[['sentiment_score']]  # returns df object"
   ]
  },
  {
   "cell_type": "code",
   "execution_count": 16,
   "id": "a2bc3c2e-4195-4558-91ea-adcc7e4b7724",
   "metadata": {},
   "outputs": [
    {
     "name": "stdout",
     "output_type": "stream",
     "text": [
      "<class 'pandas.core.frame.DataFrame'>\n"
     ]
    }
   ],
   "source": [
    "print(type(sentiment_avg_score))"
   ]
  },
  {
   "cell_type": "code",
   "execution_count": 17,
   "id": "478dfe97-bae7-4e1e-883e-a8797b0b9a34",
   "metadata": {},
   "outputs": [
    {
     "name": "stdout",
     "output_type": "stream",
     "text": [
      "            sentiment_score\n",
      "product_id                 \n",
      "079451524X         0.460840\n",
      "0805404546         0.740367\n",
      "0805474536         0.563175\n",
      "0811859363         0.657171\n",
      "0887242693         0.088275\n",
      "0887242782         0.729020\n",
      "0887245587         0.499850\n",
      "0887249825         0.478710\n",
      "0894557696         0.773800\n",
      "0899332897         0.701275\n",
      "0899334415         0.261700\n",
      "0929261135         0.287820\n",
      "0976142503         0.415106\n",
      "0976423324         0.953700\n",
      "0978534425         0.509777\n",
      "0980006619         0.555789\n",
      "0989492362         0.684516\n",
      "0990479072         0.299700\n",
      "099132384X         0.806927\n",
      "0991557530         0.694611\n",
      "0991557581         0.794590\n",
      "0991846222         0.606069\n",
      "099337980X         0.812139\n",
      "0996337407         0.562758\n",
      "1223064417         0.535322\n",
      "1223064425         0.444671\n",
      "1223068749         0.564625\n",
      "1223078167         0.563848\n"
     ]
    }
   ],
   "source": [
    "print(sentiment_avg_score)"
   ]
  },
  {
   "cell_type": "code",
   "execution_count": 18,
   "id": "2a5e73c5-c66c-45fe-bb8b-1d70817520b2",
   "metadata": {},
   "outputs": [
    {
     "name": "stdout",
     "output_type": "stream",
     "text": [
      "            sentiment_score\n",
      "product_id                 \n",
      "079451524X             46.0\n",
      "0805404546             74.0\n",
      "0805474536             56.0\n",
      "0811859363             66.0\n",
      "0887242693              9.0\n",
      "0887242782             73.0\n",
      "0887245587             50.0\n",
      "0887249825             48.0\n",
      "0894557696             77.0\n",
      "0899332897             70.0\n",
      "0899334415             26.0\n",
      "0929261135             29.0\n",
      "0976142503             42.0\n",
      "0976423324             95.0\n",
      "0978534425             51.0\n",
      "0980006619             56.0\n",
      "0989492362             68.0\n",
      "0990479072             30.0\n",
      "099132384X             81.0\n",
      "0991557530             69.0\n",
      "0991557581             79.0\n",
      "0991846222             61.0\n",
      "099337980X             81.0\n",
      "0996337407             56.0\n",
      "1223064417             54.0\n",
      "1223064425             44.0\n",
      "1223068749             56.0\n",
      "1223078167             56.0\n"
     ]
    }
   ],
   "source": [
    "# Rounding off average scores:\n",
    "print(sentiment_avg_score.round({'sentiment_score': 2}) * 100)"
   ]
  },
  {
   "cell_type": "markdown",
   "id": "cd162549-c8b6-4736-8479-7a7337a5f006",
   "metadata": {},
   "source": [
    "### Summary:\n",
    "\n",
    "> - I have done the EDA to understand the dataset to perform Sentiment Analysis.\n",
    "> - From this Sentiment Analysis, helps to determine how each product or its sellers are performing:\n",
    "    - product ids such as 0887242693, 0899334415 and 0929261135 have received both positive and non-positive sentiment reactions from the bar graph.\n",
    "    - The above 'sentiment_avg_score' computation shows information such as which products are doing well, below average or above average. \n",
    "> - These analysis will help understand the sales pattern and to further improvise on the business/sales to meet the KPIs.\n",
    "> - This leads to the scope to build Text Classifier model for analysing the sentiment of the products review to help keep track of the business!"
   ]
  }
 ],
 "metadata": {
  "kernelspec": {
   "display_name": "Python 3",
   "language": "python",
   "name": "python3"
  },
  "language_info": {
   "codemirror_mode": {
    "name": "ipython",
    "version": 3
   },
   "file_extension": ".py",
   "mimetype": "text/x-python",
   "name": "python",
   "nbconvert_exporter": "python",
   "pygments_lexer": "ipython3",
   "version": "3.8.3"
  }
 },
 "nbformat": 4,
 "nbformat_minor": 5
}
